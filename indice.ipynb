{
  "nbformat": 4,
  "nbformat_minor": 0,
  "metadata": {
    "colab": {
      "name": "indice.ipynb",
      "provenance": [],
      "include_colab_link": true
    },
    "kernelspec": {
      "name": "python3",
      "display_name": "Python 3"
    }
  },
  "cells": [
    {
      "cell_type": "markdown",
      "metadata": {
        "id": "view-in-github",
        "colab_type": "text"
      },
      "source": [
        "<a href=\"https://colab.research.google.com/github/freddyduitama/algorithms-for-large-data-sets/blob/master/indice.ipynb\" target=\"_parent\"><img src=\"https://colab.research.google.com/assets/colab-badge.svg\" alt=\"Open In Colab\"/></a>"
      ]
    },
    {
      "cell_type": "markdown",
      "metadata": {
        "id": "EWSniNPAjjQh",
        "colab_type": "text"
      },
      "source": [
        "<p><img alt=\"udeA logo\" height=\"120px\" src=\"https://github.com/freddyduitama/images/blob/master/logo.png?raw=true\" align=\"left\" hspace=\"10px\" vspace=\"0px\"></p>\n",
        "\n",
        "# <center> <font color='blue'>   Algorithms for Large Data Sets </font> </center>\n",
        "\n",
        "<center> <p><em>John Freddy Duitama Muñoz</em></p></center>\n",
        "<center><b>Universidad de Antioquia</b></center>\n"
      ]
    },
    {
      "cell_type": "markdown",
      "metadata": {
        "id": "wUijAhrCm0-h",
        "colab_type": "text"
      },
      "source": [
        "\n",
        "### Syllabus\n",
        "\n",
        "\n",
        "*   [Hashing revisited](https://drive.google.com/open?id=1o4JRH6yky_ndtXdTJ3WsSmndFJHmUMuf)\n",
        "*   Sampling\n",
        "*   Data Streams: Algorithms and Applications\n",
        "*   Graph Processing\n",
        "*   Intro to MapReduce\n",
        "*   Approximate Near Neighbor Search. Locality Sensitive Hashing\n",
        "\n",
        "\n",
        "\n"
      ]
    },
    {
      "cell_type": "markdown",
      "metadata": {
        "id": "d7dGOQsIspqJ",
        "colab_type": "text"
      },
      "source": [
        "### <b>Summary</b>\n",
        "\n",
        "The main goal of this course is to introduce algorithmic design techniques for dealing with large data sets. It will cover theoretical algorithms analysis as well as practical applications.\n",
        "\n",
        "<b> Key Issues </b>\n",
        "\n",
        "*   Increased Data gathering and collection\n",
        "*   Parallel Processing\n",
        "*   Powerfull analysis techniques of data (ML, data minning, etc)\n",
        "\n",
        "\n",
        "\n",
        "\n"
      ]
    },
    {
      "cell_type": "markdown",
      "metadata": {
        "id": "xn87LMr2ooZC",
        "colab_type": "text"
      },
      "source": [
        "### Bibliography"
      ]
    },
    {
      "cell_type": "markdown",
      "metadata": {
        "id": "-4OC-UIJoOgt",
        "colab_type": "text"
      },
      "source": [
        "### Related Courses"
      ]
    }
  ]
}